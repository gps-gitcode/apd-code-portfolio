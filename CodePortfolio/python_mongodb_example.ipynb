{
 "cells": [
  {
   "cell_type": "markdown",
   "metadata": {},
   "source": [
    "## Database connection example in Python \n",
    "### Dataset details - Youtube channel\n",
    "#### Rank(String) : denotes the Socialblade rankings of the YouTube channel\n",
    "#### Grade(String) : denotes the grade of the YouTube channel as conferred by Socialblade\n",
    "#### Channel name(String) : The name of the YouTube channel.\n",
    "#### Video Uploads(String) : Total number of videos uploaded by the YouTube channel\n",
    "#### Subscribers(String) : Total number of subscribers of the YouTube channel.\n",
    "#### Video views(Integer) : Total number of views of all the video content by the YouTube channel"
   ]
  },
  {
   "cell_type": "code",
   "execution_count": 1,
   "metadata": {},
   "outputs": [],
   "source": [
    "# Importing required libraries\n",
    "import pymongo \n",
    "import pprint #Library to print data in pretty format\n",
    "import re\n",
    "from pymongo import MongoClient"
   ]
  },
  {
   "cell_type": "code",
   "execution_count": 2,
   "metadata": {},
   "outputs": [
    {
     "data": {
      "text/plain": [
       "5000"
      ]
     },
     "execution_count": 2,
     "metadata": {},
     "output_type": "execute_result"
    }
   ],
   "source": [
    "# Connect to local Mongo DB Database \n",
    "client = MongoClient('localhost', 27017)\n",
    "\n",
    "# Reading database named \"Youtube\"\n",
    "db = client['Youtube']\n",
    "collection = db['channels']\n",
    "doc_iterator = collection.find()\n",
    "collection.count_documents({})"
   ]
  },
  {
   "cell_type": "code",
   "execution_count": 3,
   "metadata": {},
   "outputs": [
    {
     "name": "stdout",
     "output_type": "stream",
     "text": [
      "{'_id': ObjectId('5c6871ce03f61b3182d6d47c'),\n",
      " 'channel_name': 'Zee TV',\n",
      " 'currdate': '02/17/2019',\n",
      " 'grade': 'A++',\n",
      " 'rank': '1st',\n",
      " 'subscribers': 18752951,\n",
      " 'video_uploads': 82757,\n",
      " 'video_views': 20869786591}\n"
     ]
    }
   ],
   "source": [
    "# Print data in pretty format\n",
    "for doc in collection.find().limit(1):\n",
    "    pprint.pprint (doc)"
   ]
  },
  {
   "cell_type": "code",
   "execution_count": 4,
   "metadata": {},
   "outputs": [
    {
     "name": "stdout",
     "output_type": "stream",
     "text": [
      "{'_id': 'B+', 'totalchannels': 2956}\n",
      "{'_id': 'A-', 'totalchannels': 1024}\n"
     ]
    }
   ],
   "source": [
    "# Sample query of the assignment\n",
    "pipe = [\n",
    "    {\"$group\": {\"_id\":\"$grade\",\"totalchannels\": {\"$sum\": 1 }}},\n",
    "    {\"$sort\": {\"totalchannels\": -1}},\n",
    "    {\"$limit\":2}\n",
    "]\n",
    "\n",
    "cursor = collection.aggregate(pipeline = pipe)\n",
    "for doc in cursor:\n",
    "    pprint.pprint(doc)"
   ]
  },
  {
   "cell_type": "markdown",
   "metadata": {},
   "source": [
    "## Using Pandas for working with MongoDB"
   ]
  },
  {
   "cell_type": "code",
   "execution_count": 5,
   "metadata": {},
   "outputs": [
    {
     "data": {
      "text/plain": [
       "(5000, 8)"
      ]
     },
     "execution_count": 5,
     "metadata": {},
     "output_type": "execute_result"
    }
   ],
   "source": [
    "import pandas as pd\n",
    "import numpy as np\n",
    "import matplotlib.pyplot as plt\n",
    "from pandas.io.json import json_normalize\n",
    "\n",
    "youtubepd = db['channels']\n",
    "df = json_normalize(list(youtubepd.find()))\n",
    "df.head(5)\n",
    "df.shape"
   ]
  },
  {
   "cell_type": "code",
   "execution_count": 6,
   "metadata": {},
   "outputs": [
    {
     "data": {
      "text/html": [
       "<div>\n",
       "<style scoped>\n",
       "    .dataframe tbody tr th:only-of-type {\n",
       "        vertical-align: middle;\n",
       "    }\n",
       "\n",
       "    .dataframe tbody tr th {\n",
       "        vertical-align: top;\n",
       "    }\n",
       "\n",
       "    .dataframe thead th {\n",
       "        text-align: right;\n",
       "    }\n",
       "</style>\n",
       "<table border=\"1\" class=\"dataframe\">\n",
       "  <thead>\n",
       "    <tr style=\"text-align: right;\">\n",
       "      <th></th>\n",
       "      <th>_id</th>\n",
       "      <th>channel_name</th>\n",
       "      <th>currdate</th>\n",
       "      <th>grade</th>\n",
       "      <th>rank</th>\n",
       "      <th>subscribers</th>\n",
       "      <th>video_uploads</th>\n",
       "      <th>video_views</th>\n",
       "    </tr>\n",
       "  </thead>\n",
       "  <tbody>\n",
       "    <tr>\n",
       "      <th>0</th>\n",
       "      <td>5c6871ce03f61b3182d6d47c</td>\n",
       "      <td>Zee TV</td>\n",
       "      <td>02/17/2019</td>\n",
       "      <td>A++</td>\n",
       "      <td>1st</td>\n",
       "      <td>18752951</td>\n",
       "      <td>82757</td>\n",
       "      <td>20869786591</td>\n",
       "    </tr>\n",
       "    <tr>\n",
       "      <th>1</th>\n",
       "      <td>5c6871ce03f61b3182d6d47d</td>\n",
       "      <td>T-Series</td>\n",
       "      <td>02/17/2019</td>\n",
       "      <td>A++</td>\n",
       "      <td>2nd</td>\n",
       "      <td>61196302</td>\n",
       "      <td>12661</td>\n",
       "      <td>47548839843</td>\n",
       "    </tr>\n",
       "    <tr>\n",
       "      <th>2</th>\n",
       "      <td>5c6871ce03f61b3182d6d47e</td>\n",
       "      <td>Cocomelon - Nursery Rhymes</td>\n",
       "      <td>02/17/2019</td>\n",
       "      <td>A++</td>\n",
       "      <td>3rd</td>\n",
       "      <td>19238251</td>\n",
       "      <td>373</td>\n",
       "      <td>9793305082</td>\n",
       "    </tr>\n",
       "    <tr>\n",
       "      <th>3</th>\n",
       "      <td>5c6871ce03f61b3182d6d47f</td>\n",
       "      <td>SET India</td>\n",
       "      <td>02/17/2019</td>\n",
       "      <td>A++</td>\n",
       "      <td>4th</td>\n",
       "      <td>31180559</td>\n",
       "      <td>27323</td>\n",
       "      <td>22675948293</td>\n",
       "    </tr>\n",
       "    <tr>\n",
       "      <th>4</th>\n",
       "      <td>5c6871ce03f61b3182d6d480</td>\n",
       "      <td>WWE</td>\n",
       "      <td>02/17/2019</td>\n",
       "      <td>A++</td>\n",
       "      <td>5th</td>\n",
       "      <td>32852346</td>\n",
       "      <td>36756</td>\n",
       "      <td>26273668433</td>\n",
       "    </tr>\n",
       "  </tbody>\n",
       "</table>\n",
       "</div>"
      ],
      "text/plain": [
       "                        _id                channel_name    currdate grade  \\\n",
       "0  5c6871ce03f61b3182d6d47c                      Zee TV  02/17/2019   A++   \n",
       "1  5c6871ce03f61b3182d6d47d                    T-Series  02/17/2019   A++   \n",
       "2  5c6871ce03f61b3182d6d47e  Cocomelon - Nursery Rhymes  02/17/2019   A++   \n",
       "3  5c6871ce03f61b3182d6d47f                   SET India  02/17/2019   A++   \n",
       "4  5c6871ce03f61b3182d6d480                         WWE  02/17/2019   A++   \n",
       "\n",
       "  rank subscribers video_uploads  video_views  \n",
       "0  1st    18752951         82757  20869786591  \n",
       "1  2nd    61196302         12661  47548839843  \n",
       "2  3rd    19238251           373   9793305082  \n",
       "3  4th    31180559         27323  22675948293  \n",
       "4  5th    32852346         36756  26273668433  "
      ]
     },
     "execution_count": 6,
     "metadata": {},
     "output_type": "execute_result"
    }
   ],
   "source": [
    "df.head(5)"
   ]
  },
  {
   "cell_type": "code",
   "execution_count": 7,
   "metadata": {},
   "outputs": [
    {
     "data": {
      "text/plain": [
       "[]"
      ]
     },
     "execution_count": 7,
     "metadata": {},
     "output_type": "execute_result"
    }
   ],
   "source": [
    "#Check if there are any null columns present\n",
    "df.columns[df.isnull().any()].tolist()"
   ]
  },
  {
   "cell_type": "code",
   "execution_count": 8,
   "metadata": {},
   "outputs": [
    {
     "data": {
      "text/plain": [
       "_id              object\n",
       "channel_name     object\n",
       "currdate         object\n",
       "grade            object\n",
       "rank             object\n",
       "subscribers      object\n",
       "video_uploads    object\n",
       "video_views       int64\n",
       "dtype: object"
      ]
     },
     "execution_count": 8,
     "metadata": {},
     "output_type": "execute_result"
    }
   ],
   "source": [
    "#Print datatypes of all the columns\n",
    "df.dtypes"
   ]
  },
  {
   "cell_type": "code",
   "execution_count": 9,
   "metadata": {},
   "outputs": [
    {
     "data": {
      "text/html": [
       "<div>\n",
       "<style scoped>\n",
       "    .dataframe tbody tr th:only-of-type {\n",
       "        vertical-align: middle;\n",
       "    }\n",
       "\n",
       "    .dataframe tbody tr th {\n",
       "        vertical-align: top;\n",
       "    }\n",
       "\n",
       "    .dataframe thead th {\n",
       "        text-align: right;\n",
       "    }\n",
       "</style>\n",
       "<table border=\"1\" class=\"dataframe\">\n",
       "  <thead>\n",
       "    <tr style=\"text-align: right;\">\n",
       "      <th></th>\n",
       "      <th>grade</th>\n",
       "      <th>channel_name</th>\n",
       "    </tr>\n",
       "  </thead>\n",
       "  <tbody>\n",
       "    <tr>\n",
       "      <th>0</th>\n",
       "      <td></td>\n",
       "      <td>6</td>\n",
       "    </tr>\n",
       "    <tr>\n",
       "      <th>1</th>\n",
       "      <td>A</td>\n",
       "      <td>963</td>\n",
       "    </tr>\n",
       "    <tr>\n",
       "      <th>2</th>\n",
       "      <td>A+</td>\n",
       "      <td>41</td>\n",
       "    </tr>\n",
       "    <tr>\n",
       "      <th>3</th>\n",
       "      <td>A++</td>\n",
       "      <td>10</td>\n",
       "    </tr>\n",
       "    <tr>\n",
       "      <th>4</th>\n",
       "      <td>A-</td>\n",
       "      <td>1024</td>\n",
       "    </tr>\n",
       "    <tr>\n",
       "      <th>5</th>\n",
       "      <td>B+</td>\n",
       "      <td>2956</td>\n",
       "    </tr>\n",
       "  </tbody>\n",
       "</table>\n",
       "</div>"
      ],
      "text/plain": [
       "  grade  channel_name\n",
       "0                   6\n",
       "1     A           963\n",
       "2    A+            41\n",
       "3   A++            10\n",
       "4    A-          1024\n",
       "5    B+          2956"
      ]
     },
     "execution_count": 9,
     "metadata": {},
     "output_type": "execute_result"
    }
   ],
   "source": [
    "#Grouping by grade\n",
    "\n",
    "df_mod = pd.DataFrame(df.groupby(['grade'])['channel_name'].count()).reset_index()\n",
    "df_mod.head(10)"
   ]
  },
  {
   "cell_type": "code",
   "execution_count": 10,
   "metadata": {},
   "outputs": [
    {
     "data": {
      "image/png": "[encoded data removed]",
      "text/plain": [
       "<Figure size 432x288 with 1 Axes>"
      ]
     },
     "metadata": {},
     "output_type": "display_data"
    }
   ],
   "source": [
    "# Define common variables\n",
    "n = 5\n",
    "emotions = 'NA', 'A', 'A+', 'A++', 'A-'\n",
    "channels = '6','963','41','10','1024'\n",
    "colors = {'b', 'g', 'r', 'c', 'm'} # color palette\n",
    "explode = (0.1, 0.1, 0.1, 0.1, 0.1)  # explode all slice4\n",
    "index = np.arange(n)\n",
    "bar_width = 0.2\n",
    "opacity = 0.6\n",
    "\n",
    "# Define subplots and populate pie charts\n",
    "f, ax1 = plt.subplots(1, 1)\n",
    "\n",
    "ax1.bar(index, channels, bar_width, tick_label=emotions, color=colors, alpha=opacity)\n",
    "ax1.set_title('Total channels by grade')\n",
    "plt.show()"
   ]
  },
  {
   "cell_type": "code",
   "execution_count": null,
   "metadata": {},
   "outputs": [],
   "source": []
  }
 ],
 "metadata": {
  "kernelspec": {
   "display_name": "Python 3",
   "language": "python",
   "name": "python3"
  },
  "language_info": {
   "codemirror_mode": {
    "name": "ipython",
    "version": 3
   },
   "file_extension": ".py",
   "mimetype": "text/x-python",
   "name": "python",
   "nbconvert_exporter": "python",
   "pygments_lexer": "ipython3",
   "version": "3.6.5"
  }
 },
 "nbformat": 4,
 "nbformat_minor": 2
}
